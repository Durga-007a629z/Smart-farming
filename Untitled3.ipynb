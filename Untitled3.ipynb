{
  "nbformat": 4,
  "nbformat_minor": 0,
  "metadata": {
    "colab": {
      "provenance": [],
      "authorship_tag": "ABX9TyPbA0aiAtYmBBWh+9mnUCVZ",
      "include_colab_link": true
    },
    "kernelspec": {
      "name": "python3",
      "display_name": "Python 3"
    },
    "language_info": {
      "name": "python"
    }
  },
  "cells": [
    {
      "cell_type": "markdown",
      "metadata": {
        "id": "view-in-github",
        "colab_type": "text"
      },
      "source": [
        "<a href=\"https://colab.research.google.com/github/Durga-007a629z/Smart-farming/blob/main/Untitled3.ipynb\" target=\"_parent\"><img src=\"https://colab.research.google.com/assets/colab-badge.svg\" alt=\"Open In Colab\"/></a>"
      ]
    },
    {
      "cell_type": "code",
      "execution_count": null,
      "metadata": {
        "colab": {
          "base_uri": "https://localhost:8080/"
        },
        "id": "Nw6ZxL8_vhez",
        "outputId": "05081afa-8ade-4ebc-f1bc-14ade857a944"
      },
      "outputs": [
        {
          "output_type": "stream",
          "name": "stdout",
          "text": [
            "Organic Corn added to Organic Farm farm.\n",
            "Organic Soybeans added to Organic Farm farm.\n",
            "Total profit: $8000.00\n",
            "Composting net benefit: $5000.00\n",
            "Crop rotation net benefit: $6000.00\n"
          ]
        }
      ],
      "source": [
        "\n",
        "\n",
        "class Crop:\n",
        "    def __init__(self, name, yield_per_acre, cost_per_acre, organic_practices):\n",
        "        self.name = name\n",
        "        self.yield_per_acre = yield_per_acre\n",
        "        self.cost_per_acre = cost_per_acre\n",
        "        self.organic_practices = organic_practices\n",
        "\n",
        "    def calculate_profit(self, acres):\n",
        "        revenue = self.yield_per_acre * acres\n",
        "        cost = self.cost_per_acre * acres\n",
        "        return revenue - cost\n",
        "\n",
        "class Farm:\n",
        "    def __init__(self, name, acres, organic_certification):\n",
        "        self.name = name\n",
        "        self.acres = acres\n",
        "        self.organic_certification = organic_certification\n",
        "        self.crops = []\n",
        "\n",
        "    def add_crop(self, crop):\n",
        "        self.crops.append(crop)\n",
        "        print(f\"{crop.name} added to {self.name} farm.\")\n",
        "\n",
        "    def calculate_total_profit(self):\n",
        "        total_profit = 0\n",
        "        for crop in self.crops:\n",
        "            total_profit += crop.calculate_profit(self.acres)\n",
        "        return total_profit\n",
        "\n",
        "class OrganicPractice:\n",
        "    def __init__(self, name, cost_per_acre, benefit_per_acre):\n",
        "        self.name = name\n",
        "        self.cost_per_acre = cost_per_acre\n",
        "        self.benefit_per_acre = benefit_per_acre\n",
        "\n",
        "    def calculate_net_benefit(self, acres):\n",
        "        total_cost = self.cost_per_acre * acres\n",
        "        total_benefit = self.benefit_per_acre * acres\n",
        "        return total_benefit - total_cost\n",
        "\n",
        "def main():\n",
        "    # Create organic practices\n",
        "    composting = OrganicPractice(\"Composting\", 50, 100)\n",
        "    crop_rotation = OrganicPractice(\"Crop Rotation\", 20, 80)\n",
        "\n",
        "    # Create crops\n",
        "    organic_corn = Crop(\"Organic Corn\", 200, 150, [composting, crop_rotation])\n",
        "    organic_soybeans = Crop(\"Organic Soybeans\", 150, 120, [composting])\n",
        "\n",
        "    # Create farm\n",
        "    organic_farm = Farm(\"Organic Farm\", 100, True)\n",
        "\n",
        "    # Add crops to farm\n",
        "    organic_farm.add_crop(organic_corn)\n",
        "    organic_farm.add_crop(organic_soybeans)\n",
        "\n",
        "    # Calculate total profit\n",
        "    total_profit = organic_farm.calculate_total_profit()\n",
        "    print(f\"Total profit: ${total_profit:.2f}\")\n",
        "\n",
        "    # Calculate net benefit of organic practices\n",
        "    composting_net_benefit = composting.calculate_net_benefit(organic_farm.acres)\n",
        "    crop_rotation_net_benefit = crop_rotation.calculate_net_benefit(organic_farm.acres)\n",
        "    print(f\"Composting net benefit: ${composting_net_benefit:.2f}\")\n",
        "    print(f\"Crop rotation net benefit: ${crop_rotation_net_benefit:.2f}\")\n",
        "\n",
        "if __name__ == \"__main__\":\n",
        "    main()"
      ]
    }
  ]
}